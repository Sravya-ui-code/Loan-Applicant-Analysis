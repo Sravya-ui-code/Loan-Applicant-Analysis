{
 "cells": [
  {
   "cell_type": "markdown",
   "id": "7eb737cc",
   "metadata": {},
   "source": [
    "# DATA IMPORT "
   ]
  },
  {
   "cell_type": "code",
   "execution_count": 1,
   "id": "af2813d3",
   "metadata": {},
   "outputs": [],
   "source": [
    "import pandas as pd\n",
    "import numpy as np\n",
    "df = pd.read_csv('casestudy.csv')"
   ]
  },
  {
   "cell_type": "markdown",
   "id": "1c420a63",
   "metadata": {},
   "source": [
    "# Total revenue for the current year "
   ]
  },
  {
   "cell_type": "code",
   "execution_count": 2,
   "id": "031e85f1",
   "metadata": {},
   "outputs": [
    {
     "name": "stdout",
     "output_type": "stream",
     "text": [
      "year\n",
      "2015    29036749.19\n",
      "2016    25730943.59\n",
      "2017    31417495.03\n",
      "Name: net_revenue, dtype: float64\n"
     ]
    }
   ],
   "source": [
    "Total_Revenue =  df.groupby('year').net_revenue.sum()\n",
    "print(Total_Revenue)"
   ]
  },
  {
   "cell_type": "markdown",
   "id": "0087ab12",
   "metadata": {},
   "source": [
    "For the year \n",
    "\n",
    "2015 - The revenue is 29036749.19 \n",
    "\n",
    "2016 - The revenue is 25730943.59\n",
    "\n",
    "2017 - The revenue is 31417495.03\n",
    "\n"
   ]
  },
  {
   "cell_type": "markdown",
   "id": "b322317a",
   "metadata": {},
   "source": [
    "# New Customer Revenue  "
   ]
  },
  {
   "cell_type": "code",
   "execution_count": null,
   "id": "e169578d",
   "metadata": {},
   "outputs": [],
   "source": [
    "import pandas as pd\n",
    "import pandasql as ps"
   ]
  },
  {
   "cell_type": "markdown",
   "id": "8f71b197",
   "metadata": {},
   "source": [
    "We know that the new customer revenue in 2015 is  29036749.19 \n",
    "\n",
    "From the below queries we have \n",
    "\n",
    "1. new_customer_revenue_2016 = 18245491.01\n",
    "\n",
    "2. new_customer_revenue_2017 = 28776235.04"
   ]
  },
  {
   "cell_type": "code",
   "execution_count": 13,
   "id": "359e1f8c",
   "metadata": {},
   "outputs": [
    {
     "name": "stdout",
     "output_type": "stream",
     "text": [
      "   year  sum(net_revenue)\n",
      "0  2016       18245491.01\n"
     ]
    }
   ],
   "source": [
    "new_customer_revenue_2016 =  \"\"\" select year,sum(net_revenue) from df where customer_email not in (select customer_email from df where year = '2015') and year = '2016' \"\"\"\n",
    "\n",
    "print(ps.sqldf(new_customer_revenue_2016, locals()))"
   ]
  },
  {
   "cell_type": "code",
   "execution_count": 21,
   "id": "9b6bf562",
   "metadata": {
    "scrolled": true
   },
   "outputs": [
    {
     "name": "stdout",
     "output_type": "stream",
     "text": [
      "   year  sum(net_revenue)\n",
      "0  2017       28776235.04\n"
     ]
    }
   ],
   "source": [
    "new_customer_revenue_2017 =  \"\"\" select year,sum(net_revenue) from df where customer_email not in (select customer_email from df where year ='2016') and year = '2017' \"\"\"\n",
    "print(ps.sqldf(new_customer_revenue_2017, locals()))"
   ]
  },
  {
   "cell_type": "markdown",
   "id": "0e7133b5",
   "metadata": {},
   "source": [
    "# Existing Customer Growth. \n",
    "\n",
    "\n"
   ]
  },
  {
   "cell_type": "code",
   "execution_count": 24,
   "id": "a26ee68d",
   "metadata": {},
   "outputs": [
    {
     "name": "stdout",
     "output_type": "stream",
     "text": [
      "   year  sum(net_revenue)\n",
      "0  2016        7485452.58\n",
      "   year  sum(net_revenue)\n",
      "0  2015        7465117.12\n"
     ]
    }
   ],
   "source": [
    "existing_customer_2016 =  \"\"\" select year,sum(net_revenue) from df where customer_email in (select customer_email from df where year ='2015') and year = '2016' \"\"\"\n",
    "existing_customer_2015 =  \"\"\" select year,sum(net_revenue) from df where customer_email in (select customer_email from df where year ='2016') and year = '2015' \"\"\"\n",
    "print(ps.sqldf(existing_customer_2016, locals()))\n",
    "print(ps.sqldf(existing_customer_2015, locals()))"
   ]
  },
  {
   "cell_type": "markdown",
   "id": "279ae32c",
   "metadata": {},
   "source": [
    "So we can say that the existing customer revenue growth from 2015 to 2016 is : <b> 20335.46 </b>"
   ]
  },
  {
   "cell_type": "code",
   "execution_count": 25,
   "id": "12e9d5a0",
   "metadata": {},
   "outputs": [
    {
     "name": "stdout",
     "output_type": "stream",
     "text": [
      "   year  sum(net_revenue)\n",
      "0  2017        2641259.99\n",
      "   year  sum(net_revenue)\n",
      "0  2016        2620648.65\n"
     ]
    }
   ],
   "source": [
    "existing_customer_2017 =  \"\"\" select year,sum(net_revenue) from df where customer_email in (select customer_email from df where year ='2016') and year = '2017' \"\"\"\n",
    "existing_customerg_2016 =  \"\"\" select year,sum(net_revenue) from df where customer_email in (select customer_email from df where year ='2017') and year = '2016' \"\"\"\n",
    "print(ps.sqldf(existing_customer_2017, locals()))\n",
    "print(ps.sqldf(existing_customerg_2016, locals()))"
   ]
  },
  {
   "cell_type": "markdown",
   "id": "e99e6869",
   "metadata": {},
   "source": [
    "So we can say that the existing customer revenue growth from 2016 to 2017 is : <b> 20611.34 </b>\n"
   ]
  },
  {
   "cell_type": "markdown",
   "id": "9a02f7be",
   "metadata": {},
   "source": [
    "# Revenue lost from attrition"
   ]
  },
  {
   "cell_type": "code",
   "execution_count": 28,
   "id": "d4a56447",
   "metadata": {},
   "outputs": [
    {
     "name": "stdout",
     "output_type": "stream",
     "text": [
      "   year  sum(net_revenue)\n",
      "0  2015      2.157163e+07\n"
     ]
    }
   ],
   "source": [
    "revenue_lost_2015 =  \"\"\" select year,sum(net_revenue) from df where customer_email not in (select customer_email from df where year ='2016') and year = '2015' \"\"\"\n",
    "print(ps.sqldf(revenue_lost_2015, locals()))"
   ]
  },
  {
   "cell_type": "markdown",
   "id": "4f2b9823",
   "metadata": {},
   "source": [
    "Revenue lost due to attrition in 2015 - the total revenue for the customers in 2015 and not in 2016 : 2.157163e+07\n"
   ]
  },
  {
   "cell_type": "code",
   "execution_count": 27,
   "id": "56b88a7f",
   "metadata": {},
   "outputs": [
    {
     "name": "stdout",
     "output_type": "stream",
     "text": [
      "   year  sum(net_revenue)\n",
      "0  2016       23110294.94\n"
     ]
    }
   ],
   "source": [
    "revenue_lost_2016 =  \"\"\" select year,sum(net_revenue) from df where customer_email not in (select customer_email from df where year ='2017') and year = '2016' \"\"\"\n",
    "print(ps.sqldf(revenue_lost_2016, locals()))"
   ]
  },
  {
   "cell_type": "markdown",
   "id": "2c83172c",
   "metadata": {},
   "source": [
    "Revenue lost due to attrition in 2016 - the total revenue for the customers in 2016 and not in 2017 : 23110294.94"
   ]
  },
  {
   "cell_type": "markdown",
   "id": "e2256591",
   "metadata": {},
   "source": [
    "# Existing Customer Revenue Current Year "
   ]
  },
  {
   "cell_type": "code",
   "execution_count": 31,
   "id": "13c2d34b",
   "metadata": {},
   "outputs": [
    {
     "name": "stdout",
     "output_type": "stream",
     "text": [
      "   year  sum(net_revenue)\n",
      "0  2016        7485452.58\n",
      "   year  sum(net_revenue)\n",
      "0  2017        2641259.99\n"
     ]
    }
   ],
   "source": [
    "existing_customer_2016 =  \"\"\" select year,sum(net_revenue) from df where customer_email in (select customer_email from df where year ='2015') and year = '2016' \"\"\"\n",
    "existing_customer_2017 =  \"\"\" select year,sum(net_revenue) from df where customer_email in (select customer_email from df where year ='2016') and year = '2017' \"\"\"\n",
    "print(ps.sqldf(existing_customer_2016, locals()))\n",
    "print(ps.sqldf(existing_customer_2017, locals()))"
   ]
  },
  {
   "cell_type": "markdown",
   "id": "cab893e0",
   "metadata": {},
   "source": [
    "Existing customer revenue for the year :\n",
    "\n",
    "2015 : 29036749.19\n",
    "\n",
    "So for the year 2016, the existing customer revenue is the total revenue generated in 2016 for the common customers in 2015 and 2016\n",
    "    \n",
    "2016 : 7485452.58\n",
    "\n",
    "So for the year 2017, the existing customer revenue is the total revenue generated in 2016 for the common customers in 2016 and 2017\n",
    "    \n",
    "2017 : 2641259.99\n"
   ]
  },
  {
   "cell_type": "markdown",
   "id": "bc8dedf5",
   "metadata": {},
   "source": [
    "# Existing Customer Revenue Prior Year "
   ]
  },
  {
   "cell_type": "code",
   "execution_count": 32,
   "id": "89c26a58",
   "metadata": {},
   "outputs": [
    {
     "name": "stdout",
     "output_type": "stream",
     "text": [
      "   year  sum(net_revenue)\n",
      "0  2015        7465117.12\n",
      "   year  sum(net_revenue)\n",
      "0  2016        2620648.65\n"
     ]
    }
   ],
   "source": [
    "existing_customer_2015 =  \"\"\" select year,sum(net_revenue) from df where customer_email in (select customer_email from df where year ='2016') and year = '2015' \"\"\"\n",
    "existing_customerg_2016 =  \"\"\" select year,sum(net_revenue) from df where customer_email in (select customer_email from df where year ='2017') and year = '2016' \"\"\"\n",
    "print(ps.sqldf(existing_customer_2015, locals()))\n",
    "print(ps.sqldf(existing_customerg_2016, locals()))"
   ]
  },
  {
   "cell_type": "markdown",
   "id": "3a24ac81",
   "metadata": {},
   "source": [
    "Existing customer revenue for the Prior Year:\n",
    "\n",
    "So for the year 2015, the existing customer revenue is the total revenue generated in 2015 for the common customers in 2015 and 2015\n",
    "\n",
    "2015 : 7465117.12\n",
    "\n",
    "So for the year 2016, the existing customer revenue is the total revenue generated in 2016 for the common customers in 2016 and 2017\n",
    "    \n",
    "2016 : 2620648.65\n",
    "    \n",
    "\n"
   ]
  },
  {
   "cell_type": "markdown",
   "id": "eba559eb",
   "metadata": {},
   "source": [
    "# Total Customers Current Year "
   ]
  },
  {
   "cell_type": "code",
   "execution_count": 40,
   "id": "1d28a54e",
   "metadata": {},
   "outputs": [
    {
     "name": "stdout",
     "output_type": "stream",
     "text": [
      "   year  count(customer_email)\n",
      "0  2015                 231294\n",
      "   year  count(customer_email)\n",
      "0  2016                 204646\n",
      "   year  count(customer_email)\n",
      "0  2017                 249987\n"
     ]
    }
   ],
   "source": [
    "Total_customer_2015 =  \"\"\" select year,count(customer_email) from df where year = '2015' \"\"\"\n",
    "Total_customer_2016 =  \"\"\" select year,count(customer_email) from df where year = '2016' \"\"\"\n",
    "Total_customer_2017 =  \"\"\" select year,count(customer_email) from df where year = '2017' \"\"\"\n",
    "\n",
    "print(ps.sqldf(Total_customer_2015, locals()))\n",
    "print(ps.sqldf(Total_customer_2016, locals()))\n",
    "print(ps.sqldf(Total_customer_2017, locals()))"
   ]
  },
  {
   "cell_type": "markdown",
   "id": "e8acb223",
   "metadata": {},
   "source": [
    "Total customers in each year :\n",
    "    \n",
    "2015 : 231294\n",
    "\n",
    "2016 : 204646\n",
    "    \n",
    "2017 : 249987"
   ]
  },
  {
   "cell_type": "markdown",
   "id": "219854c8",
   "metadata": {},
   "source": [
    "# Total Customers Previous Year "
   ]
  },
  {
   "cell_type": "code",
   "execution_count": 61,
   "id": "d29c9bc3",
   "metadata": {},
   "outputs": [
    {
     "name": "stdout",
     "output_type": "stream",
     "text": [
      "   year  count(customer_email)\n",
      "0  2015                 231294\n",
      "   year  count(customer_email)\n",
      "0  2016                  59584\n",
      "   year  count(customer_email)\n",
      "0  2017                  20959\n"
     ]
    }
   ],
   "source": [
    "prevcustomers_2015 =  \"\"\"select year,count(customer_email) from df where year = '2015' \"\"\"\n",
    "prevcustomers_2016 = \"\"\" select year,count(customer_email) from df where year = '2016' and customer_email in (select customer_email from df where year ='2015')\"\"\"\n",
    "prevcustomers_2017 = \"\"\" select year,count(customer_email) from df where year = '2017' and customer_email in (select customer_email from df where year ='2016')\"\"\"\n",
    "\n",
    "\n",
    "print(ps.sqldf(prevcustomers_2015, locals()))\n",
    "print(ps.sqldf(prevcustomers_2016, locals()))\n",
    "print(ps.sqldf(prevcustomers_2017, locals()))"
   ]
  },
  {
   "cell_type": "markdown",
   "id": "7f6fd4b9",
   "metadata": {},
   "source": [
    "# New Customers "
   ]
  },
  {
   "cell_type": "code",
   "execution_count": 36,
   "id": "795b0043",
   "metadata": {},
   "outputs": [
    {
     "name": "stdout",
     "output_type": "stream",
     "text": [
      "   year  count(customer_email)\n",
      "0  2015                 231294\n",
      "   year  count(customer_email)\n",
      "0  2016                 145062\n",
      "   year  count(customer_email)\n",
      "0  2017                 229028\n"
     ]
    }
   ],
   "source": [
    "newcustomers_2015 =  \"\"\" select year,count(customer_email) from df where year = '2015' \"\"\"\n",
    "newcustomers_2016 = \"\"\" select year,count(customer_email) from df where year = '2016' and customer_email not in (select customer_email from df where year ='2015')\"\"\"\n",
    "newcustomers_2017 = \"\"\" select year,count(customer_email) from df where year = '2017' and customer_email not in (select customer_email from df where year ='2016')\"\"\"\n",
    "\n",
    "print(ps.sqldf(newcustomers_2015, locals()))\n",
    "print(ps.sqldf(newcustomers_2016, locals()))\n",
    "print(ps.sqldf(newcustomers_2017, locals()))\n"
   ]
  },
  {
   "cell_type": "markdown",
   "id": "069aaf77",
   "metadata": {},
   "source": [
    "New customers in 2015 are the total customers in 2015 \n",
    "\n",
    "New customers in 2016 are the customers which are not in 2015 : 145062\n",
    "\n",
    "New customers in 2017 are the customers which are not in 2016 : 229028\n"
   ]
  },
  {
   "cell_type": "markdown",
   "id": "a6a64ff9",
   "metadata": {},
   "source": [
    "# Lost Customers"
   ]
  },
  {
   "cell_type": "code",
   "execution_count": 38,
   "id": "2479951b",
   "metadata": {},
   "outputs": [
    {
     "name": "stdout",
     "output_type": "stream",
     "text": [
      "   count(customer_email)\n",
      "0                 171710\n",
      "   count(customer_email)\n",
      "0                 183687\n"
     ]
    }
   ],
   "source": [
    "lostcustomers_2016 = \"\"\" select count(customer_email) from df where year = '2015' and customer_email not in (select customer_email from df where year ='2016')\"\"\"\n",
    "lostcustomers_2017 = \"\"\" select count(customer_email) from df where year = '2016' and customer_email not in (select customer_email from df where year ='2017')\"\"\"\n",
    "\n",
    "print(ps.sqldf(lostcustomers_2016, locals()))\n",
    "print(ps.sqldf(lostcustomers_2017, locals()))"
   ]
  },
  {
   "cell_type": "markdown",
   "id": "91ddda26",
   "metadata": {},
   "source": [
    "Number of customers lost in 2015 will be equal to zero\n",
    "\n",
    "Number of customers lost in 2016 will be the total number of customers in 2015 which are not in 2016 : 171710\n",
    "\n",
    "Number of customers lost in 2017 will be the total number of customers in 2016 which are not in 2017 : 183687"
   ]
  },
  {
   "cell_type": "markdown",
   "id": "d3accdf8",
   "metadata": {},
   "source": [
    "Additionally, generate a few unique plots highlighting some information from the dataset. Are there any interesting observations? "
   ]
  },
  {
   "cell_type": "markdown",
   "id": "7bdc4091",
   "metadata": {},
   "source": [
    "# PLOTS"
   ]
  },
  {
   "cell_type": "markdown",
   "id": "5a04aa28",
   "metadata": {},
   "source": [
    "Total, New and Lost customer each year "
   ]
  },
  {
   "cell_type": "code",
   "execution_count": 43,
   "id": "374f80cd",
   "metadata": {},
   "outputs": [
    {
     "data": {
      "text/plain": [
       "<matplotlib.legend.Legend at 0x2b35d757b20>"
      ]
     },
     "execution_count": 43,
     "metadata": {},
     "output_type": "execute_result"
    },
    {
     "data": {
      "image/png": "[encoded data removed]",
      "text/plain": [
       "<Figure size 432x288 with 1 Axes>"
      ]
     },
     "metadata": {
      "needs_background": "light"
     },
     "output_type": "display_data"
    }
   ],
   "source": [
    "import matplotlib.pyplot as plt\n",
    "\n",
    "#Data for the first line - New Customers\n",
    "y1 = [231294,145062,229028]\n",
    "x1 = [2015,2016, 2017]\n",
    "\n",
    "#Data for the second line - Lost Customer\n",
    "y2 = [0, 171710 , 183687]\n",
    "x2 = [2015,2016, 2017]\n",
    "\n",
    "y3  = [231294,204646,249987]\n",
    "x3 = [2015,2016,2017] \n",
    "#Data for the third line - Total Customer\n",
    "\n",
    "plt.plot(x1, y1)\n",
    "plt.plot(x2, y2)\n",
    "plt.plot(x3, y3)\n",
    "\n",
    "plt.legend([\"New Customers\", \"Lost Customer\",\"Total Customers\"])"
   ]
  },
  {
   "cell_type": "markdown",
   "id": "174ef01e",
   "metadata": {},
   "source": [
    "We find that the number of customers the company lost is more in 2017. All though 2017 has more total customer it has lost major amount of existign customer from previous years"
   ]
  },
  {
   "cell_type": "markdown",
   "id": "f1e73f2f",
   "metadata": {},
   "source": [
    "Total Revenue and Revenue from new customers"
   ]
  },
  {
   "cell_type": "code",
   "execution_count": 49,
   "id": "c2900749",
   "metadata": {},
   "outputs": [
    {
     "data": {
      "text/plain": [
       "<matplotlib.legend.Legend at 0x2b345095a00>"
      ]
     },
     "execution_count": 49,
     "metadata": {},
     "output_type": "execute_result"
    },
    {
     "data": {
      "image/png": "[encoded data removed]",
      "text/plain": [
       "<Figure size 432x288 with 1 Axes>"
      ]
     },
     "metadata": {
      "needs_background": "light"
     },
     "output_type": "display_data"
    }
   ],
   "source": [
    "x = [2015, 2016,2017]\n",
    "y = [29036749.19, 18245491.0,28776235.04] # New customers Revenue\n",
    "\n",
    "y1 = [29036749.19,25730943.59, 31417495.03] # Total customer revenue \n",
    "\n",
    "plt.plot(x, y, 'o', color='orange')\n",
    "plt.plot(x ,y1, 'o', color = 'yellow')\n",
    "\n",
    "plt.legend([\"New customers Revenue\", \" Total customer Revenue \"])"
   ]
  },
  {
   "cell_type": "markdown",
   "id": "bb753922",
   "metadata": {},
   "source": [
    "From this graph we can say that the new customers have significant contribution in the total revenue in both 2016 and 2017. \n",
    "We can also observe an increase in the total revenue from 2015 to 2017 and more than 95% of the revenue contribution in 2017 is from the new customers."
   ]
  },
  {
   "cell_type": "code",
   "execution_count": 60,
   "id": "033a4b12",
   "metadata": {},
   "outputs": [
    {
     "data": {
      "image/png": "[encoded data removed]",
      "text/plain": [
       "<Figure size 432x288 with 1 Axes>"
      ]
     },
     "metadata": {},
     "output_type": "display_data"
    }
   ],
   "source": [
    "Tr =  df.net_revenue.sum()\n",
    "\n",
    "y = np.array([ (29036749.19/(Tr))*100, (25730943.59/(Tr))*100 , (31417495.03/(Tr))*100])\n",
    "mylabels = [\"2015\", \"2016\", \"2017\"]\n",
    "\n",
    "plt.pie(y, labels = mylabels)\n",
    "plt.show() "
   ]
  },
  {
   "cell_type": "markdown",
   "id": "f564d1be",
   "metadata": {},
   "source": [
    "We can say that 2017 has the max share of the total net revenue "
   ]
  },
  {
   "cell_type": "code",
   "execution_count": null,
   "id": "e7d6fe48",
   "metadata": {},
   "outputs": [],
   "source": []
  }
 ],
 "metadata": {
  "kernelspec": {
   "display_name": "Python 3",
   "language": "python",
   "name": "python3"
  },
  "language_info": {
   "codemirror_mode": {
    "name": "ipython",
    "version": 3
   },
   "file_extension": ".py",
   "mimetype": "text/x-python",
   "name": "python",
   "nbconvert_exporter": "python",
   "pygments_lexer": "ipython3",
   "version": "3.8.8"
  }
 },
 "nbformat": 4,
 "nbformat_minor": 5
}
